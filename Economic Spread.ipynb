{
 "cells": [
  {
   "cell_type": "code",
   "execution_count": 8,
   "id": "6711026f-14e1-4f83-bb50-5108fada7302",
   "metadata": {},
   "outputs": [],
   "source": [
    "import pandas as pd"
   ]
  },
  {
   "cell_type": "code",
   "execution_count": 9,
   "id": "e7f3e440-0922-48d6-9f78-9932d0cad194",
   "metadata": {},
   "outputs": [],
   "source": [
    "file_path = \"economic spread excel.xlsx\"\n",
    "wacc_df = pd.read_excel(file_path, sheet_name='WACC Value')\n",
    "roic_df = pd.read_excel(file_path, sheet_name='ROIC Value')\n",
    "spread_base = pd.read_excel(file_path, sheet_name='Economic Spread Final')"
   ]
  },
  {
   "cell_type": "code",
   "execution_count": 10,
   "id": "2b0dc1c3-1354-4216-b72b-18bdbde10a98",
   "metadata": {},
   "outputs": [],
   "source": [
    "wacc_df.columns = wacc_df.columns.str.strip()\n",
    "roic_df.columns = roic_df.columns.str.strip()"
   ]
  },
  {
   "cell_type": "code",
   "execution_count": 11,
   "id": "cea75193-8b75-4e8c-8d5f-8fa6571a7952",
   "metadata": {},
   "outputs": [
    {
     "ename": "NameError",
     "evalue": "name 'wacc_pivot' is not defined",
     "output_type": "error",
     "traceback": [
      "\u001b[0;31m---------------------------------------------------------------------------\u001b[0m",
      "\u001b[0;31mNameError\u001b[0m                                 Traceback (most recent call last)",
      "Cell \u001b[0;32mIn[11], line 2\u001b[0m\n\u001b[1;32m      1\u001b[0m spread_base[\u001b[38;5;124m'\u001b[39m\u001b[38;5;124mCompany Name\u001b[39m\u001b[38;5;124m'\u001b[39m] \u001b[38;5;241m=\u001b[39m spread_base[\u001b[38;5;124m'\u001b[39m\u001b[38;5;124mCompany Name\u001b[39m\u001b[38;5;124m'\u001b[39m]\u001b[38;5;241m.\u001b[39mstr\u001b[38;5;241m.\u001b[39mstrip()\n\u001b[0;32m----> 2\u001b[0m wacc_pivot[\u001b[38;5;124m'\u001b[39m\u001b[38;5;124mCompany Name\u001b[39m\u001b[38;5;124m'\u001b[39m] \u001b[38;5;241m=\u001b[39m wacc_pivot[\u001b[38;5;124m'\u001b[39m\u001b[38;5;124mCompany Name\u001b[39m\u001b[38;5;124m'\u001b[39m]\u001b[38;5;241m.\u001b[39mstr\u001b[38;5;241m.\u001b[39mstrip()\n\u001b[1;32m      3\u001b[0m roic_pivot[\u001b[38;5;124m'\u001b[39m\u001b[38;5;124mCompany Name\u001b[39m\u001b[38;5;124m'\u001b[39m] \u001b[38;5;241m=\u001b[39m roic_pivot[\u001b[38;5;124m'\u001b[39m\u001b[38;5;124mCompany Name\u001b[39m\u001b[38;5;124m'\u001b[39m]\u001b[38;5;241m.\u001b[39mstr\u001b[38;5;241m.\u001b[39mstrip()\n",
      "\u001b[0;31mNameError\u001b[0m: name 'wacc_pivot' is not defined"
     ]
    }
   ],
   "source": [
    "spread_base['Company Name'] = spread_base['Company Name'].str.strip()\n",
    "wacc_pivot['Company Name'] = wacc_pivot['Company Name'].str.strip()\n",
    "roic_pivot['Company Name'] = roic_pivot['Company Name'].str.strip()"
   ]
  },
  {
   "cell_type": "code",
   "execution_count": 12,
   "id": "8c325c1b-4df5-4470-b69b-8a202f653375",
   "metadata": {},
   "outputs": [],
   "source": [
    "#WACC\n",
    "wacc_components = ['Re', 'Rd', 'Tax Rate', 'E/V', 'D/V']\n",
    "wacc_filtered = wacc_df[wacc_df['Component'].isin(wacc_components)]"
   ]
  },
  {
   "cell_type": "code",
   "execution_count": 13,
   "id": "985570b0-7942-454f-832e-2455bf3be250",
   "metadata": {},
   "outputs": [],
   "source": [
    "wacc_pivot = wacc_filtered.pivot_table(\n",
    "    index='Company Name',\n",
    "    columns='Component',\n",
    "    values='Value',\n",
    "    aggfunc='first'\n",
    ").reset_index()"
   ]
  },
  {
   "cell_type": "code",
   "execution_count": 14,
   "id": "f574f26e-225a-4971-8078-25c527f24aec",
   "metadata": {},
   "outputs": [],
   "source": [
    "wacc_pivot['WACC'] = (\n",
    "    wacc_pivot['E/V'] * wacc_pivot['Re'] +\n",
    "    wacc_pivot['D/V'] * wacc_pivot['Rd'] * (1 - wacc_pivot['Tax Rate'])\n",
    ")"
   ]
  },
  {
   "cell_type": "code",
   "execution_count": 15,
   "id": "8c68cc38-2d6b-4ade-95a5-0fcf296120d8",
   "metadata": {
    "scrolled": true
   },
   "outputs": [],
   "source": [
    "#ROIC\n",
    "roic_components = ['NOPAT', 'IC']\n",
    "roic_filtered = roic_df[roic_df['Component'].isin(roic_components)]"
   ]
  },
  {
   "cell_type": "code",
   "execution_count": 16,
   "id": "31568cf9-8b15-4872-94fb-a04c7fe71c41",
   "metadata": {},
   "outputs": [],
   "source": [
    "roic_pivot = roic_filtered.pivot_table(\n",
    "    index='Company Name',\n",
    "    columns='Component',\n",
    "    values='Value',\n",
    "    aggfunc='first'\n",
    ").reset_index()"
   ]
  },
  {
   "cell_type": "code",
   "execution_count": 17,
   "id": "f12bd616-a2d4-4fd5-9b82-8cdd94716ed0",
   "metadata": {},
   "outputs": [],
   "source": [
    "roic_pivot['ROIC'] = roic_pivot['NOPAT'] / roic_pivot['IC']"
   ]
  },
  {
   "cell_type": "code",
   "execution_count": 18,
   "id": "ce4187c7-84a6-494a-b823-a979e87c4e7f",
   "metadata": {},
   "outputs": [],
   "source": [
    "spread_base.drop(columns=[col for col in ['WACC', 'ROIC', 'WACC_x', 'WACC_y', 'ROIC_x', 'ROIC_y'] if col in spread_base.columns], inplace=True)"
   ]
  },
  {
   "cell_type": "code",
   "execution_count": 19,
   "id": "08a06c12-95f4-4642-9181-dfa75a166425",
   "metadata": {},
   "outputs": [],
   "source": [
    "# Merge WACC\n",
    "spread_base = pd.merge(spread_base, wacc_pivot[['Company Name', 'WACC']], on='Company Name', how='left')\n",
    "\n",
    "# Merge ROIC\n",
    "spread_base = pd.merge(spread_base, roic_pivot[['Company Name', 'ROIC']], on='Company Name', how='left')"
   ]
  },
  {
   "cell_type": "code",
   "execution_count": 20,
   "id": "04c74963-2838-47af-8034-d503e2ef1612",
   "metadata": {},
   "outputs": [],
   "source": [
    "assert 'WACC' in spread_base.columns\n",
    "assert 'ROIC' in spread_base.columns\n",
    "\n",
    "spread_base['WACC'] = spread_base['WACC'] / 100\n",
    "\n",
    "# Calculate Economic Spread\n",
    "spread_base['Economic Spread'] = spread_base['ROIC'] - spread_base['WACC']"
   ]
  },
  {
   "cell_type": "code",
   "execution_count": 21,
   "id": "d4900313-e11a-4034-99f2-7c68965dd9dd",
   "metadata": {},
   "outputs": [],
   "source": [
    "cols = [col for col in spread_base.columns if col != 'Economic Spread'] + ['Economic Spread']\n",
    "spread_base = spread_base[cols]"
   ]
  },
  {
   "cell_type": "code",
   "execution_count": 22,
   "id": "9ce64c11-c965-48a7-9381-f69d3b951446",
   "metadata": {},
   "outputs": [
    {
     "ename": "NameError",
     "evalue": "name 'output_path' is not defined",
     "output_type": "error",
     "traceback": [
      "\u001b[0;31m---------------------------------------------------------------------------\u001b[0m",
      "\u001b[0;31mNameError\u001b[0m                                 Traceback (most recent call last)",
      "Cell \u001b[0;32mIn[22], line 1\u001b[0m\n\u001b[0;32m----> 1\u001b[0m \u001b[38;5;28;01mwith\u001b[39;00m pd\u001b[38;5;241m.\u001b[39mExcelWriter(output_path) \u001b[38;5;28;01mas\u001b[39;00m writer:\n\u001b[1;32m      2\u001b[0m     wacc_df\u001b[38;5;241m.\u001b[39mto_excel(writer, sheet_name\u001b[38;5;241m=\u001b[39m\u001b[38;5;124m'\u001b[39m\u001b[38;5;124mWACC\u001b[39m\u001b[38;5;124m'\u001b[39m, index\u001b[38;5;241m=\u001b[39m\u001b[38;5;28;01mFalse\u001b[39;00m)\n\u001b[1;32m      3\u001b[0m     roic_df\u001b[38;5;241m.\u001b[39mto_excel(writer, sheet_name\u001b[38;5;241m=\u001b[39m\u001b[38;5;124m'\u001b[39m\u001b[38;5;124mROIC\u001b[39m\u001b[38;5;124m'\u001b[39m, index\u001b[38;5;241m=\u001b[39m\u001b[38;5;28;01mFalse\u001b[39;00m)\n",
      "\u001b[0;31mNameError\u001b[0m: name 'output_path' is not defined"
     ]
    }
   ],
   "source": [
    "with pd.ExcelWriter(output_path) as writer:\n",
    "    wacc_df.to_excel(writer, sheet_name='WACC', index=False)\n",
    "    roic_df.to_excel(writer, sheet_name='ROIC', index=False)\n",
    "    spread_base.to_excel(writer, sheet_name='Economic Spread Final', index=False)"
   ]
  },
  {
   "cell_type": "code",
   "execution_count": 23,
   "id": "741766e1-f475-410b-99d7-251a78233d83",
   "metadata": {},
   "outputs": [
    {
     "ename": "NameError",
     "evalue": "name 'output_path' is not defined",
     "output_type": "error",
     "traceback": [
      "\u001b[0;31m---------------------------------------------------------------------------\u001b[0m",
      "\u001b[0;31mNameError\u001b[0m                                 Traceback (most recent call last)",
      "Cell \u001b[0;32mIn[23], line 1\u001b[0m\n\u001b[0;32m----> 1\u001b[0m \u001b[38;5;28mprint\u001b[39m(\u001b[38;5;124mf\u001b[39m\u001b[38;5;124m\"\u001b[39m\u001b[38;5;124m✅ File saved as: \u001b[39m\u001b[38;5;132;01m{\u001b[39;00moutput_path\u001b[38;5;132;01m}\u001b[39;00m\u001b[38;5;124m\"\u001b[39m)\n",
      "\u001b[0;31mNameError\u001b[0m: name 'output_path' is not defined"
     ]
    }
   ],
   "source": [
    "print(f\"✅ File saved as: {output_path}\")"
   ]
  },
  {
   "cell_type": "code",
   "execution_count": null,
   "id": "b52f5278-8bfb-4dd0-a4c8-bf4d07156c92",
   "metadata": {},
   "outputs": [],
   "source": []
  },
  {
   "cell_type": "code",
   "execution_count": null,
   "id": "d1c6e8fb-a30e-4e80-be54-a4e72f0592c4",
   "metadata": {},
   "outputs": [],
   "source": []
  },
  {
   "cell_type": "code",
   "execution_count": null,
   "id": "a7bfc4dc-9723-412f-8524-643efb1c0d75",
   "metadata": {},
   "outputs": [],
   "source": []
  }
 ],
 "metadata": {
  "kernelspec": {
   "display_name": "Python 3 (ipykernel)",
   "language": "python",
   "name": "python3"
  },
  "language_info": {
   "codemirror_mode": {
    "name": "ipython",
    "version": 3
   },
   "file_extension": ".py",
   "mimetype": "text/x-python",
   "name": "python",
   "nbconvert_exporter": "python",
   "pygments_lexer": "ipython3",
   "version": "3.12.7"
  }
 },
 "nbformat": 4,
 "nbformat_minor": 5
}
